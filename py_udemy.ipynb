{
 "cells": [
  {
   "cell_type": "markdown",
   "id": "b2f79cda",
   "metadata": {},
   "source": [
    "100 DAYS OF PYTHON - UDEMY  \n",
    "DAY 1 "
   ]
  },
  {
   "cell_type": "code",
   "execution_count": 9,
   "id": "42dfb8e8",
   "metadata": {},
   "outputs": [
    {
     "name": "stdout",
     "output_type": "stream",
     "text": [
      "H\n",
      "<class 'str'>\n",
      "Nivedha Raja \n",
      "NUIG\n",
      "Nithya  Asir\n"
     ]
    }
   ],
   "source": [
    "print(\"Hello World!\"[0])#printing the letter using indexing \n",
    "\n",
    "print(type(\"Nikitha\"))#type checking \n",
    "\n",
    "print (\"Nivedha Raja \\nNUIG\")## newline \n",
    "\n",
    "print (\"Nithya \"+\" Asir\")#adding two string "
   ]
  },
  {
   "cell_type": "markdown",
   "id": "ddc4bc20",
   "metadata": {},
   "source": [
    "INDENTATION ERROR \n",
    "SYNTAX ERROR \n"
   ]
  },
  {
   "cell_type": "markdown",
   "id": "58603e72",
   "metadata": {},
   "source": [
    "Band Name Generator"
   ]
  },
  {
   "cell_type": "code",
   "execution_count": 10,
   "id": "128282dc",
   "metadata": {},
   "outputs": [
    {
     "name": "stdout",
     "output_type": "stream",
     "text": [
      "Welcome to Band Name Generator!\n",
      "Your Band Name is !\n"
     ]
    }
   ],
   "source": [
    "print(\"Welcome to Band Name Generator!\")\n",
    "\n",
    "Name_1 =input(\"What is your native city.?\")\n",
    "\n",
    "Name_2 = input(\"What is your pet name .?\")\n",
    "\n",
    "Band_Name = Name_1 +\"\"+ Name_2\n",
    "\n",
    "print(f\"Your Band Name is {Band_Name}!\")"
   ]
  },
  {
   "cell_type": "code",
   "execution_count": 11,
   "id": "ea78ff20",
   "metadata": {},
   "outputs": [
    {
     "name": "stdout",
     "output_type": "stream",
     "text": [
      "13\n",
      "Nivedha Raja \n"
     ]
    }
   ],
   "source": [
    "Name = \"Nivedha Raja \"\n",
    "\n",
    "print(len(Name))#gets the length of the value \n",
    "\n",
    "print(Name)#prints the value "
   ]
  },
  {
   "cell_type": "markdown",
   "id": "4c46ebca",
   "metadata": {},
   "source": [
    "DAY 2 \n",
    "TIP CALCULATOR "
   ]
  },
  {
   "cell_type": "code",
   "execution_count": 12,
   "id": "020aa062",
   "metadata": {},
   "outputs": [
    {
     "name": "stdout",
     "output_type": "stream",
     "text": [
      "Welcome to the tip calculator\n"
     ]
    },
    {
     "ename": "ValueError",
     "evalue": "could not convert string to float: ''",
     "output_type": "error",
     "traceback": [
      "\u001b[0;31m---------------------------------------------------------------------------\u001b[0m",
      "\u001b[0;31mValueError\u001b[0m                                Traceback (most recent call last)",
      "Cell \u001b[0;32mIn[12], line 3\u001b[0m\n\u001b[1;32m      1\u001b[0m \u001b[38;5;28mprint\u001b[39m(\u001b[38;5;124m\"\u001b[39m\u001b[38;5;124mWelcome to the tip calculator\u001b[39m\u001b[38;5;124m\"\u001b[39m)\n\u001b[0;32m----> 3\u001b[0m Total_bill \u001b[38;5;241m=\u001b[39m \u001b[38;5;28mfloat\u001b[39m( \u001b[38;5;28minput\u001b[39m(\u001b[38;5;124m\"\u001b[39m\u001b[38;5;124mWhat was your Total bill .?\u001b[39m\u001b[38;5;124m\"\u001b[39m ))\n\u001b[1;32m      5\u001b[0m Tips \u001b[38;5;241m=\u001b[39m \u001b[38;5;28mint\u001b[39m(\u001b[38;5;28minput\u001b[39m (\u001b[38;5;124m\"\u001b[39m\u001b[38;5;124mHow much tip would you like to give? 10 , 12 , or 15?\u001b[39m\u001b[38;5;124m\"\u001b[39m))\n\u001b[1;32m      7\u001b[0m Split \u001b[38;5;241m=\u001b[39m \u001b[38;5;28mint\u001b[39m(\u001b[38;5;28minput\u001b[39m (\u001b[38;5;124m\"\u001b[39m\u001b[38;5;124mHow many people to split the bill \u001b[39m\u001b[38;5;124m\"\u001b[39m))\n",
      "\u001b[0;31mValueError\u001b[0m: could not convert string to float: ''"
     ]
    }
   ],
   "source": [
    "print(\"Welcome to the tip calculator\")\n",
    "\n",
    "Total_bill = float( input(\"What was your Total bill .?\" ))\n",
    "\n",
    "Tips = int(input (\"How much tip would you like to give? 10 , 12 , or 15?\"))\n",
    "\n",
    "Split = int(input (\"How many people to split the bill \"))\n",
    "\n",
    "each_pay = round(( Total_bill * (Tips/ 100)+ Total_bill)/Split,2)\n",
    "\n",
    "\n",
    "print (f\"Each person should split {each_pay} euros each.\")\n",
    "\n"
   ]
  },
  {
   "cell_type": "markdown",
   "id": "e33b7872",
   "metadata": {},
   "source": [
    "DAY 3 "
   ]
  },
  {
   "cell_type": "markdown",
   "id": "9a30fca4",
   "metadata": {},
   "source": [
    "if, else, elif statements "
   ]
  },
  {
   "cell_type": "markdown",
   "id": "6335566c",
   "metadata": {},
   "source": [
    "theme park ticket "
   ]
  },
  {
   "cell_type": "code",
   "execution_count": null,
   "id": "87087115",
   "metadata": {},
   "outputs": [],
   "source": []
  },
  {
   "cell_type": "markdown",
   "id": "2950062c",
   "metadata": {},
   "source": [
    "pizza shop"
   ]
  },
  {
   "cell_type": "code",
   "execution_count": null,
   "id": "95e0df2c",
   "metadata": {},
   "outputs": [],
   "source": []
  },
  {
   "cell_type": "markdown",
   "id": "268843d6",
   "metadata": {},
   "source": [
    "treasure island \n"
   ]
  },
  {
   "cell_type": "code",
   "execution_count": null,
   "id": "cee119ec",
   "metadata": {},
   "outputs": [
    {
     "name": "stdout",
     "output_type": "stream",
     "text": [
      "Welcome to Treasure Island : Your mission is to find the treasure.\n"
     ]
    }
   ],
   "source": [
    "\n",
    "print(\"Welcome to Treasure Island : Your mission is to find the treasure.\")\n",
    "\n",
    "choice1 = input('Youre in a way to treasure. which side to take \"left\" or \"right\".?').lower()\n",
    "\n",
    "if choice1 == \"left\":\n",
    "    choice2 = input('You can \"swim \"or\" wait \"').lower()\n",
    "    if choice2 == \"wait\":\n",
    "       choice3 =  input('Thanks for waiting here.Now which door you want to open \"red\" or \"blue\" or \"yellow\" ').lower()\n",
    "       if choice3 == \"yellow\":\n",
    "           print(\"You WIN. CONGRATS\")\n",
    "       else:\n",
    "           print(\"Game OVER\")\n",
    "    else:\n",
    "        print(\"GAME OVER\")\n",
    "else:\n",
    "    print(\"You are right.. GAME OVER..\")\n",
    "\n"
   ]
  },
  {
   "cell_type": "code",
   "execution_count": null,
   "id": "ef11c7fd",
   "metadata": {},
   "outputs": [
    {
     "name": "stdout",
     "output_type": "stream",
     "text": [
      "12\n"
     ]
    }
   ],
   "source": [
    "#RANDOM MODULE \n",
    "import random\n",
    "\n",
    "random_mod = random.randint(1,20)\n",
    "print(random_mod)"
   ]
  },
  {
   "cell_type": "code",
   "execution_count": null,
   "id": "3ac5a517",
   "metadata": {},
   "outputs": [
    {
     "name": "stdout",
     "output_type": "stream",
     "text": [
      "Heads\n"
     ]
    }
   ],
   "source": [
    "random_game = random.randint(0,1)\n",
    "if random_game == 0:\n",
    "    print(\"Heads\")\n",
    "else:\n",
    "    print(\"Tails\")"
   ]
  },
  {
   "cell_type": "markdown",
   "id": "e97dceec",
   "metadata": {},
   "source": [
    "Lists : \n",
    "they are variables stored insidea set of square brackets comma seperated "
   ]
  },
  {
   "cell_type": "code",
   "execution_count": null,
   "id": "b1f3cb9c",
   "metadata": {},
   "outputs": [
    {
     "name": "stdout",
     "output_type": "stream",
     "text": [
      "['Chennai', 'Mumbai', 'Banglore', 'Hyderabad', 'Agra', 'Haryana', 'New Delhi', 'Kashmir', 'Guregon', 'kozhikode', 'Rajasthan']\n"
     ]
    }
   ],
   "source": [
    "states_of_india = [\"Chennai\",\"Mumbai\",\"Banglore\",\"Hyderabad\",\"Agra\",\"Haryana\",\"New Delhi\",\"Kashmir\",\"Guregon\",\"kozhikode\"]\n",
    "\n",
    "states_of_india.append(\"Rajasthan\")\n",
    "\n",
    "print(states_of_india)"
   ]
  },
  {
   "cell_type": "code",
   "execution_count": null,
   "id": "11f20875",
   "metadata": {},
   "outputs": [
    {
     "name": "stdout",
     "output_type": "stream",
     "text": [
      "Swe\n",
      "Nivi\n"
     ]
    }
   ],
   "source": [
    "import random\n",
    "friends = [\"Nivi\",\"Krithi\",\"Rathi\",\"Swe\",\"Lashya\",\"Saha\",\"Rach\",\"trish\",\"Manjari\"]\n",
    "print(random.choice(friends))\n",
    "\n",
    "random_index = random.randint(0,8)\n",
    "print(friends[random_index])\n"
   ]
  },
  {
   "cell_type": "code",
   "execution_count": null,
   "id": "013a64af",
   "metadata": {},
   "outputs": [
    {
     "name": "stdout",
     "output_type": "stream",
     "text": [
      "[['Mango', 'Apple', 'Grapes', 'Orange', 'Strawberries', 'Blueberries', 'Pineapple', 'Banana'], ['Spinach', 'Kale', 'Onion', 'Potato', 'Broccoli', 'Mint', 'Corriander', 'Ginger', 'Garlic']]\n"
     ]
    }
   ],
   "source": [
    "#inserting two lists inside one list \n",
    "dirty_dozen = [\"Mango\",\"Apple\",\"Grapes\",\"Orange\",\"Strawberries\",\"Blueberries\",\"Pineapple\",\"Banana\",\"Spinach\",\"Kale\",\"Onion\",\"Potato\",\"Broccoli\",\"Mint\",\"Corriander\",\"Ginger\",\"Garlic\"]\n",
    "\n",
    "Fruits = [\"Mango\",\"Apple\",\"Grapes\",\"Orange\",\"Strawberries\",\"Blueberries\",\"Pineapple\",\"Banana\"]\n",
    "Vegetables = [\"Spinach\",\"Kale\",\"Onion\",\"Potato\",\"Broccoli\",\"Mint\",\"Corriander\",\"Ginger\",\"Garlic\"]\n",
    "\n",
    "dirty_dozen = [Fruits,Vegetables]\n",
    "print(dirty_dozen)"
   ]
  },
  {
   "cell_type": "markdown",
   "id": "f96cfe9b",
   "metadata": {},
   "source": [
    "STONE PAPER AND SCISSORS GAME "
   ]
  },
  {
   "cell_type": "code",
   "execution_count": null,
   "id": "da5cf244",
   "metadata": {},
   "outputs": [
    {
     "name": "stdout",
     "output_type": "stream",
     "text": [
      "You chose:23\n",
      "computer chose:0\n",
      "You entered a invalid number. You Lose!\n"
     ]
    }
   ],
   "source": [
    "import random \n",
    "\n",
    "user_choice = int(input(\"what do you choose? Type 0 for Rock, 1 for Paper, or 2 for Scissors\"))\n",
    "print(f\"You chose:{user_choice}\")\n",
    "\n",
    "computer_choice = random.randint(0,2)\n",
    "print(f\"computer chose:{computer_choice}\")\n",
    "\n",
    "if 0 < user_choice >= 3:\n",
    "    print(\"You entered a invalid number. You Lose!\")\n",
    "elif user_choice > computer_choice:\n",
    "    print(\"You Win!\")\n",
    "elif computer_choice > user_choice:\n",
    "    print(\"You Lose!\")\n",
    "elif user_choice == 0 and computer_choice == 2:\n",
    "    print(\"You Win!\")\n",
    "elif computer_choice == 0 and user_choice == 2:\n",
    "    print(\"You Lose!\")\n",
    "elif computer_choice == user_choice:\n",
    "    print(\"Its Draw!\")\n",
    "\n",
    "\n"
   ]
  },
  {
   "cell_type": "markdown",
   "id": "1f987974",
   "metadata": {},
   "source": [
    "LOOPS\n"
   ]
  },
  {
   "cell_type": "code",
   "execution_count": null,
   "id": "7c5d3f62",
   "metadata": {},
   "outputs": [],
   "source": [
    "#DO SOMETHING TO EACH ITEM - FOR LOOP \n",
    "for item in list_of_items:\n",
    "    "
   ]
  },
  {
   "cell_type": "code",
   "execution_count": null,
   "id": "18413572",
   "metadata": {},
   "outputs": [
    {
     "name": "stdout",
     "output_type": "stream",
     "text": [
      "Mango Pie\n",
      "Apple Pie\n",
      "Grapes Pie\n",
      "Orange Pie\n",
      "Strawberries Pie\n",
      "Blueberries Pie\n",
      "Pineapple Pie\n",
      "Banana Pie\n"
     ]
    }
   ],
   "source": [
    "Fruits = [\"Mango\",\"Apple\",\"Grapes\",\"Orange\",\"Strawberries\",\"Blueberries\",\"Pineapple\",\"Banana\"]\n",
    "\n",
    "for fruit in Fruits:\n",
    "    print(fruit + \" Pie\")"
   ]
  },
  {
   "cell_type": "code",
   "execution_count": null,
   "id": "c8939cb9",
   "metadata": {},
   "outputs": [
    {
     "name": "stdout",
     "output_type": "stream",
     "text": [
      "550\n",
      "100\n"
     ]
    }
   ],
   "source": [
    "student_score = [10, 20, 30, 40, 50, 60, 70, 80, 90, 100]\n",
    "del sum  # Remove if sum was overridden\n",
    "total_score = sum(student_score)\n",
    "print(total_score)\n",
    "\n",
    "print(max(student_score))"
   ]
  },
  {
   "cell_type": "code",
   "execution_count": null,
   "id": "146d297d",
   "metadata": {},
   "outputs": [
    {
     "name": "stdout",
     "output_type": "stream",
     "text": [
      "550\n",
      "100\n"
     ]
    }
   ],
   "source": [
    "student_score = [10, 20, 30, 40, 50, 60, 70, 80, 90, 100]\n",
    "\n",
    "sum = 0                         #0 10+0 = 10\n",
    "for score in student_score:      #10+20 =30.. 30+30 =60.. 60+40 =100..\n",
    "    sum += score                  #100+50 =150.. 150+60 =210.. 210+70 =280..\n",
    "print(sum)                         #280+80 = 360.. 360+90 =450.. 450+100 = 550.\n",
    "                                    # 550\n",
    "\n",
    "\n",
    "max = 0                          #0  10>0 = 10, 20>10 = 20, 30>20 =30,\n",
    "for score in student_score:       #......\n",
    "    if score > max:\n",
    "        max = score\n",
    "print(max)                          #100>90 = 100"
   ]
  },
  {
   "cell_type": "markdown",
   "id": "e628368b",
   "metadata": {},
   "source": [
    "Range\n"
   ]
  },
  {
   "cell_type": "code",
   "execution_count": null,
   "id": "34215384",
   "metadata": {},
   "outputs": [],
   "source": [
    "#syntax\n",
    "for number in range(a,b):\n",
    "    print(number)\n"
   ]
  },
  {
   "cell_type": "code",
   "execution_count": null,
   "id": "2bfa638d",
   "metadata": {},
   "outputs": [
    {
     "name": "stdout",
     "output_type": "stream",
     "text": [
      "1\n",
      "4\n",
      "7\n",
      "10\n"
     ]
    }
   ],
   "source": [
    "for number in range(1,11,3):\n",
    "    print(number)"
   ]
  },
  {
   "cell_type": "code",
   "execution_count": null,
   "id": "187b6755",
   "metadata": {},
   "outputs": [
    {
     "name": "stdout",
     "output_type": "stream",
     "text": [
      "5050\n"
     ]
    }
   ],
   "source": [
    "total = 0\n",
    "for number in range (1,101):\n",
    "    total += number\n",
    "print(total)"
   ]
  },
  {
   "cell_type": "markdown",
   "id": "68529a20",
   "metadata": {},
   "source": [
    "Paasword Generator \n"
   ]
  },
  {
   "cell_type": "code",
   "execution_count": null,
   "id": "6cdcb498",
   "metadata": {},
   "outputs": [
    {
     "name": "stdout",
     "output_type": "stream",
     "text": [
      "Welcome to the PyPassword Generator\n",
      " Ced686$!*\n"
     ]
    }
   ],
   "source": [
    "import random\n",
    "letters = ['a','b','c','d','e','f','g','h','i','j','k','A','B','C','D','E','F','G','H','I','J','K']\n",
    "numbers = ['0','1','2','3','4','5','6','7','8','9']\n",
    "symbols = ['!','@','#','$','%','^','&','*','+']\n",
    "\n",
    "print(\"Welcome to the PyPassword Generator\")\n",
    "\n",
    "nr_letters = int(input(\"how many letters would you like in your password?\\n\"))\n",
    "nr_symbols = int(input(\"how many symbols would you like in your password?\\n\"))\n",
    "nr_numbers = int(input(\"how many numbers would you like in your password?\\n\"))\n",
    "\n",
    "password = \" \"\n",
    "\n",
    "for char in range(1,nr_letters+ 1):\n",
    "    password += random.choice(letters)\n",
    "\n",
    "for num in range(1,nr_numbers + 1):\n",
    "    password += random.choice(numbers)\n",
    "\n",
    "for symbol in range(1,nr_symbols + 1):\n",
    "    password += random.choice(symbols)\n",
    "\n",
    "print(password)"
   ]
  },
  {
   "cell_type": "markdown",
   "id": "1132d62d",
   "metadata": {},
   "source": [
    "DAY 6 :\n",
    "\n",
    "Functions\n",
    "\n",
    "while loop \n"
   ]
  },
  {
   "cell_type": "markdown",
   "id": "ecdcc246",
   "metadata": {},
   "source": [
    "DAY 7 HANGMAN GAME "
   ]
  },
  {
   "cell_type": "code",
   "execution_count": null,
   "id": "eec06aaf",
   "metadata": {},
   "outputs": [
    {
     "name": "stdout",
     "output_type": "stream",
     "text": [
      "gowtham\n",
      "-------\n",
      "-------\n",
      "You Lose\n"
     ]
    }
   ],
   "source": [
    "import random \n",
    "word_list = [\"nivedha\", \"gowtham\", \"jamuna\", \"rathishree\",\"krithika\"]\n",
    "\n",
    "chosen_word = random.choice(word_list)\n",
    "print(chosen_word)\n",
    "\n",
    "placeholder = \"\"\n",
    "word_length = len(chosen_word)\n",
    "for position in range(word_length):\n",
    "    placeholder += \"-\"\n",
    "print(placeholder)\n",
    "\n",
    "game_over = False\n",
    "correct_letters = []\n",
    "\n",
    "while not game_over: \n",
    "    guess = input(\"Guess a letter:\").lower()\n",
    "\n",
    "    display = \"\"\n",
    "\n",
    "    for letter in chosen_word:\n",
    "        if letter == guess:\n",
    "            display += letter\n",
    "            correct_letters.append(guess)\n",
    "        elif letter in correct_letters:\n",
    "            display += letter \n",
    "        else:\n",
    "            display += \"-\"\n",
    "\n",
    "    print(display)\n",
    "\n",
    "    if \"-\" not in display:\n",
    "        game_over = True \n",
    "        print(\"You Win\")\n",
    "\n",
    "        \n"
   ]
  },
  {
   "cell_type": "markdown",
   "id": "060490e1",
   "metadata": {},
   "source": [
    "DAY 8:\n"
   ]
  },
  {
   "cell_type": "code",
   "execution_count": null,
   "id": "0d7d33a5",
   "metadata": {},
   "outputs": [
    {
     "name": "stdout",
     "output_type": "stream",
     "text": [
      "Hello Nivi\n",
      "How do you do Nivi?\n",
      "Isnt the weather nice Nivi?\n",
      "whats its like in Chennai\n"
     ]
    }
   ],
   "source": [
    "def greet(name ,  location):     #name ---> paraameter passed \n",
    "    print(f\"Hello {name}\")\n",
    "    print(f\"How do you do {name}?\")\n",
    "    print(f\"Isnt the weather nice {name}?\")\n",
    "    print(f\"whats its like in {location}\")\n",
    "\n",
    "greet(\"Nivi\",\"Chennai\") #nivi ---> argument passed "
   ]
  },
  {
   "cell_type": "code",
   "execution_count": null,
   "id": "5aef628b",
   "metadata": {},
   "outputs": [
    {
     "name": "stdout",
     "output_type": "stream",
     "text": [
      "you have 3640 weeks left.\n"
     ]
    }
   ],
   "source": [
    "def life_left(years):\n",
    "    weeks = 90*52 - years*52\n",
    "    print(f\"you have {weeks} weeks left.\")\n",
    "\n",
    "life_left(20)\n"
   ]
  },
  {
   "cell_type": "code",
   "execution_count": null,
   "id": "a0cbb2a0",
   "metadata": {},
   "outputs": [
    {
     "name": "stdout",
     "output_type": "stream",
     "text": [
      "here is the encoded result: hello\n"
     ]
    }
   ],
   "source": [
    "alphabet = ['a','b','c','d','e','f','g','h','i','j','k','l','m','n','o','p','q','r','s','t','u','v','w','x','y','z']\n",
    "\n",
    "direction = input(\"type 'encode' to encrypt, type 'decode' to decrypt:\\n\").lower()\n",
    "text = input(\"type your message:\\n\").lower()\n",
    "shift = int(input(\"type the shift number:\\n\"))\n",
    "\n",
    "if direction == 'encode':\n",
    "    encrypt(original_text=text, shift_amount=shift)\n",
    "elif direction == 'decode':\n",
    "    decrypt(original_text=text, shift_amount=shift)\n",
    "else:\n",
    "    print(\"Invalid direction\")\n",
    "\n",
    "\n",
    "def encrypt (original_text , shift_amount):\n",
    "    cipher_text = \" \"\n",
    "\n",
    "    for letter in original_text:\n",
    "        shifted_position = alphabet.index(letter) + shift_amount\n",
    "        shifted_position %= len(alphabet)\n",
    "        cipher_text += alphabet[shifted_position]\n",
    "\n",
    "    print(f\"Here is the encoded result:{cipher_text}\")\n",
    "\n",
    "\n",
    "\n",
    "\n",
    "def decrypt(original_text,shift_amount):\n",
    "    cipher_text = \" \"\n",
    "\n",
    "    for letter in original_text:\n",
    "        shifted_position = alphabet.index(letter) - shift_amount\n",
    "        shifted_position %= len(alphabet)\n",
    "        cipher_text += alphabet[shifted_position]\n",
    "\n",
    "    print(f\"Here is the encoded result:{cipher_text}\")\n",
    "\n",
    "\n",
    "\n"
   ]
  },
  {
   "cell_type": "markdown",
   "id": "3d22b774",
   "metadata": {},
   "source": [
    "DAY 9 \n",
    "\n",
    "DICTIONARY - {KEY : VALUE }\n",
    "\n",
    "\n",
    "programming_dictionary = {\n",
    "    \"Bug\": \"An error in a program that prevents the program from running as expected.\"\n",
    "}"
   ]
  },
  {
   "cell_type": "code",
   "execution_count": null,
   "id": "3057d954",
   "metadata": {},
   "outputs": [
    {
     "name": "stdout",
     "output_type": "stream",
     "text": [
      "An error in a program that prevents the program from running as expected.\n"
     ]
    }
   ],
   "source": [
    "programming_dictionary = {\n",
    "    \"Bug\": \"An error in a program that prevents the program from running as expected.\",\n",
    "    \"Function\": \"A piece of code that you can easily call over and over again.\",\n",
    "    \"Loop\": \"The action of doing something over and over again.\"\n",
    "}\n",
    "\n",
    "print(programming_dictionary['Bug']) #helps to print the value of the key - need to give right spelling of the key \n"
   ]
  },
  {
   "cell_type": "code",
   "execution_count": null,
   "id": "539e0a42",
   "metadata": {},
   "outputs": [
    {
     "name": "stdout",
     "output_type": "stream",
     "text": [
      "Bug\n",
      "An error in a program that prevents the program from running as expected.\n",
      "Function\n",
      "A piece of code that you can easily call over and over again.\n",
      "Loop\n",
      "The action of doing something over and over again.\n"
     ]
    }
   ],
   "source": [
    "for key in programming_dictionary:   #this only prints the key value \n",
    "    print(key)\n",
    "    print(programming_dictionary[key]) #to print value with it "
   ]
  },
  {
   "cell_type": "code",
   "execution_count": null,
   "id": "8165e5fc",
   "metadata": {},
   "outputs": [
    {
     "name": "stdout",
     "output_type": "stream",
     "text": [
      "{'Bug': 'An error in a program that prevents the program from running as expected.', 'Function': 'A piece of code that you can easily call over and over again.', 'Loop': 'The action of doing something over and over again.'}\n"
     ]
    }
   ],
   "source": [
    "programming_dictionary[\"Loop\"] = \"The action of doing something over and over again.\"\n",
    "#the above line of code to add a new key and value to the dictionary \n",
    "print(programming_dictionary)"
   ]
  },
  {
   "cell_type": "code",
   "execution_count": null,
   "id": "89c035b8",
   "metadata": {},
   "outputs": [
    {
     "name": "stdout",
     "output_type": "stream",
     "text": [
      "{}\n"
     ]
    }
   ],
   "source": [
    "\n",
    "programming_dictionary = {}   #empties the existing dictionary \n",
    "print(programming_dictionary)\n"
   ]
  },
  {
   "cell_type": "markdown",
   "id": "f699be57",
   "metadata": {},
   "source": [
    "Nesting "
   ]
  },
  {
   "cell_type": "code",
   "execution_count": null,
   "id": "61534808",
   "metadata": {},
   "outputs": [
    {
     "name": "stdout",
     "output_type": "stream",
     "text": [
      "C\n"
     ]
    }
   ],
   "source": [
    "nested_list = [\"A\",\"B\",[\"C\",\"D\"]] #A - 0, B - 1 , C and D are 2 \n",
    "\n",
    "print(nested_list[2][0]) #C - 0 and D - 1"
   ]
  },
  {
   "cell_type": "code",
   "execution_count": null,
   "id": "c59c45bc",
   "metadata": {},
   "outputs": [
    {
     "name": "stdout",
     "output_type": "stream",
     "text": [
      "{'Visited_cities': ['Hamburg', 'Kopenhegen', 'Denmark'], 'Total_visits': 10}\n",
      "['Hamburg', 'Kopenhegen', 'Denmark']\n",
      "Denmark\n"
     ]
    }
   ],
   "source": [
    "travel_log = {\n",
    "    \"France\":{\n",
    "        \"Visited_cities \": [\"Paris\",\"Dijon\",\"Lille\"],\n",
    "            \"Total_Visits\": 5\n",
    "   },\n",
    "   \"Germany\":{\n",
    "       \"Visited_cities\": [\"Hamburg\",\"Kopenhegen\",\"Denmark\"],\n",
    "       \"Total_visits\": 10\n",
    "\n",
    "   }\n",
    "}\n",
    "print(travel_log[\"Germany\"])\n",
    "print(travel_log[\"Germany\"][\"Visited_cities\"])\n",
    "print(travel_log[\"Germany\"][\"Visited_cities\"][2])"
   ]
  },
  {
   "cell_type": "markdown",
   "id": "9e3ed0bd",
   "metadata": {},
   "source": [
    "AUCTION GAME"
   ]
  },
  {
   "cell_type": "code",
   "execution_count": null,
   "id": "bf958b25",
   "metadata": {},
   "outputs": [
    {
     "name": "stdout",
     "output_type": "stream",
     "text": [
      "The winner is Rathi with a bid of $200\n"
     ]
    }
   ],
   "source": [
    "bids = {}\n",
    "continue_bidding = True\n",
    "\n",
    "def find_highest_bidder(bidding_dictionary):\n",
    "    winner = \"\"\n",
    "    highest_bid = 0\n",
    "    for bidder in bidding_dictionary:\n",
    "        bid_amt = bidding_dictionary[bidder]\n",
    "        if bid_amt > highest_bid:\n",
    "            highest_bid = bid_amt\n",
    "            winner = bidder\n",
    "    print(f\"The winner is {winner} with a bid of ${highest_bid}\")\n",
    "\n",
    "while continue_bidding:\n",
    "    name = input(\"What is your name?\\n\")\n",
    "    price = int(input(\"What is your bid?\\n$\"))\n",
    "    bids[name] = price\n",
    "\n",
    "    should_continue = input(\"Are there any other bidders? Type 'yes' or 'no':\\n\").lower()\n",
    "    if should_continue == \"no\":\n",
    "        continue_bidding = False\n",
    "        find_highest_bidder(bids)\n"
   ]
  },
  {
   "cell_type": "code",
   "execution_count": null,
   "id": "ffb251e5",
   "metadata": {},
   "outputs": [
    {
     "name": "stdout",
     "output_type": "stream",
     "text": [
      "6\n"
     ]
    }
   ],
   "source": [
    "def my_function():\n",
    "    return 3*2\n",
    "\n",
    "output = my_function()\n",
    "print(output)"
   ]
  },
  {
   "cell_type": "code",
   "execution_count": null,
   "id": "17c4eedb",
   "metadata": {},
   "outputs": [
    {
     "name": "stdout",
     "output_type": "stream",
     "text": [
      "Nivedha Raja\n"
     ]
    }
   ],
   "source": [
    "def format_name(f_name,l_name):\n",
    "    A = f_name.title()\n",
    "    B = l_name.title()\n",
    "    return f\"{A} {B}\"\n",
    "\n",
    "formated_str = format_name( \"nivedha\",   \"raja\")\n",
    "print(formated_str)"
   ]
  },
  {
   "cell_type": "markdown",
   "id": "7d0bc3c1",
   "metadata": {},
   "source": [
    "DOCSTRINGS \n",
    "\n",
    "\n",
    "\"\"\"  it should be between three set of double quotes - we can use it for documentation of our code -  kind of lengthy multi line commond       \"\"\""
   ]
  },
  {
   "cell_type": "markdown",
   "id": "272c5d9f",
   "metadata": {},
   "source": [
    "PY CALCULATOR "
   ]
  },
  {
   "cell_type": "code",
   "execution_count": null,
   "id": "cb141b9b",
   "metadata": {},
   "outputs": [
    {
     "name": "stdout",
     "output_type": "stream",
     "text": [
      "5\n"
     ]
    }
   ],
   "source": [
    "def add(n1,n2):\n",
    "    return n1 + n2\n",
    "\n",
    "my_fav_op = add      ##when we assign a variable for a function no need the brackets \n",
    "\n",
    "print(my_fav_op(2,3))"
   ]
  },
  {
   "cell_type": "code",
   "execution_count": null,
   "id": "31416fc7",
   "metadata": {},
   "outputs": [],
   "source": [
    "def add(n1,n2):\n",
    "    return n1 + n2\n",
    "\n",
    "def sub(n1, n2):\n",
    "    return n1 - n2 \n",
    "\n",
    "def mul(n1,n2):\n",
    "    return n1 * n2\n",
    "\n",
    "def div(n1,n2):\n",
    "    return n1 / n2\n",
    "\n",
    "operations = {\n",
    "    \"+\":add,\n",
    "    \"-\":sub,\n",
    "    \"*\":mul,\n",
    "    \"/\":div,\n",
    "\n",
    "\n",
    "}\n",
    "## print(operations[\"*\"](4,8))\n",
    "\n",
    "\n",
    "\n",
    "should_accumulate = True\n",
    "\n",
    "n1 = int(input(\"First Number:   \\n\"))\n",
    "\n",
    "while should_accumulate:\n",
    "    for symbol in operations:\n",
    "        print(symbol)\n",
    "\n",
    "    op_symbol = input(\"Pick a operation: \\n\")\n",
    "    n2 = int(input(\"Second Number:   \\n\"))\n",
    "\n",
    "    answer = operations[op_symbol](n1,n2)\n",
    "\n",
    "    print(f\"{n1} {op_symbol} {n2} = {answer} \\n\")\n",
    "\n",
    "    choice = input(\"Type 'y' if you want to continue calculation with {answer}, or type 'n' to stop here \").lower\n",
    "\n",
    "    if choice == 'y':\n",
    "        n1 = answer \n",
    "\n",
    "    else:\n",
    "        should_accumulate = False\n",
    "        print(\"\\n\"*5)\n",
    "\n",
    "        for symbol in operations:\n",
    "            print(symbol)\n",
    "        op_symbol = input(\"Pick a operation: \\n\")\n",
    "        n2 = int(input(\"Second Number:   \\n\"))\n",
    "        answer = operations[op_symbol](n1,n2)\n",
    "\n",
    "        print(f\"{n1} {op_symbol} {n2} = {answer} \\n\")\n"
   ]
  },
  {
   "cell_type": "markdown",
   "id": "7112be4d",
   "metadata": {},
   "source": [
    "DAY 11 \n",
    "\n",
    "BLACJACK GAME CAPESTONE PROJECT "
   ]
  },
  {
   "cell_type": "markdown",
   "id": "64802ea9",
   "metadata": {},
   "source": [
    "my code \n"
   ]
  },
  {
   "cell_type": "code",
   "execution_count": null,
   "id": "47efaa2e",
   "metadata": {},
   "outputs": [
    {
     "name": "stdout",
     "output_type": "stream",
     "text": [
      "Your final hand: [7, 10, 1, 4], final score: 22\n",
      "Computer's final hand: [3, 8, 6], final score: 17\n",
      "You went over. You Lose\n"
     ]
    }
   ],
   "source": [
    "import random \n",
    "\n",
    "def deal_card():\n",
    "    \"\"\"returns a random card from the deck\"\"\"\n",
    "    cards = [11,2,3,4,5,6,7,8,9,10,10,10,10]\n",
    "    card = random.choice(cards)\n",
    "    return card \n",
    "\n",
    "def calculate_score(cards):\n",
    "    if sum(cards) == 21 and len(cards) == 2:\n",
    "        return 0\n",
    "    \n",
    "    if 11 in cards and sum(cards) > 21:\n",
    "        cards.remove(11)\n",
    "        cards.append(1)\n",
    "        \n",
    "\n",
    "    return sum(cards)\n",
    "\n",
    "def compare(u_score, c_score):\n",
    "    if u_score == c_score:\n",
    "        return \"Draw\"\n",
    "    elif c_score == 0:\n",
    "        return \"Lose, opponent has Blackjack\"\n",
    "    elif u_score == 0:\n",
    "        return \"Win with a blackjack \"\n",
    "    elif u_score >21:\n",
    "        return \"You went over. You Lose\"\n",
    "    elif c_score > 21:\n",
    "        return \"opponent went over. you win\"\n",
    "    elif u_score > c_score:\n",
    "        return  \"You Win\"\n",
    "\n",
    "##def play_game():\n",
    "    user_card = []\n",
    "    computer_card = []\n",
    "\n",
    "    computer_score = -1\n",
    "    user_score = -1\n",
    "\n",
    "    is_game_over = False\n",
    "\n",
    "    for _ in range(2):\n",
    "      #new_card =  deal_card()\n",
    "   #user_card.append(new_card) ##add a single value to a list use append()\n",
    "          user_card.append(deal_card())\n",
    "          computer_card.append(deal_card())\n",
    "    \n",
    "    while not is_game_over:\n",
    "\n",
    "          user_score = calculate_score(user_card)\n",
    "          computer_score = calculate_score(computer_card)\n",
    "          print(f\"Your Cards: {user_card}, Current score: {user_score}\")\n",
    "          print(f\"Computer's First card {computer_card[0]}\")\n",
    "\n",
    "          if user_score == 0 or computer_score == 0 or user_score > 21:\n",
    "              is_game_over = True\n",
    "          else:\n",
    "             user_should_deal = input(\"Type 'y' to get another card or Type 'n' to pass: \")\n",
    "             if user_should_deal == \"y\":\n",
    "               user_card.append(deal_card())\n",
    "             else:\n",
    "               is_game_over = True\n",
    "\n",
    "\n",
    "    while computer_score != 0 and computer_score < 17:\n",
    "                computer_card.append(deal_card())\n",
    "                computer_score = calculate_score(computer_card)\n",
    "\n",
    "         \n",
    "\n",
    "print(f\"Your final hand: {user_card}, final score: {user_score}\")\n",
    "print(f\"Computer's final hand: {computer_card}, final score: {computer_score}\") # type: ignore\n",
    "print(compare(user_score,computer_score))\n",
    "\n",
    "##while input(\"Do you want to play a game of Blackjack?  Type 'y' or 'n':\")== \"y\":\n",
    "      ##  print(\"\\n\"*20)\n",
    "      ##  play_game()\n",
    "\n"
   ]
  },
  {
   "cell_type": "markdown",
   "id": "addd4847",
   "metadata": {},
   "source": [
    "corrected_code\n"
   ]
  },
  {
   "cell_type": "code",
   "execution_count": 13,
   "id": "8a2d6851",
   "metadata": {},
   "outputs": [
    {
     "name": "stdout",
     "output_type": "stream",
     "text": [
      "\n",
      "\n",
      "\n",
      "\n",
      "Your cards: [7, 7], current score: 14\n",
      "Computer's first card: 6\n",
      "Your cards: [7, 7, 10], current score: 24\n",
      "Computer's first card: 6\n",
      "\n",
      "Your final hand: [7, 7, 10], final score: 24\n",
      "Computer's final hand: [6, 10, 3], final score: 19\n",
      "You went over. You Lose\n"
     ]
    }
   ],
   "source": [
    "import random\n",
    "\n",
    "def deal_card():\n",
    "    \"\"\"Returns a random card from the deck.\"\"\"\n",
    "    cards = [11, 2, 3, 4, 5, 6, 7, 8, 9, 10, 10, 10, 10]\n",
    "    return random.choice(cards)\n",
    "\n",
    "def calculate_score(cards):\n",
    "    \"\"\"Calculates the score of the given hand.\"\"\"\n",
    "    if sum(cards) == 21 and len(cards) == 2:\n",
    "        return 0  # Blackjack\n",
    "\n",
    "    if 11 in cards and sum(cards) > 21:\n",
    "        cards.remove(11)\n",
    "        cards.append(1)\n",
    "\n",
    "    return sum(cards)\n",
    "\n",
    "def compare(u_score, c_score):\n",
    "    \"\"\"Compares user and computer scores and returns the result.\"\"\"\n",
    "    if u_score == c_score:\n",
    "        return \"Draw\"\n",
    "    elif c_score == 0:\n",
    "        return \"Lose, opponent has Blackjack\"\n",
    "    elif u_score == 0:\n",
    "        return \"Win with a Blackjack\"\n",
    "    elif u_score > 21:\n",
    "        return \"You went over. You Lose\"\n",
    "    elif c_score > 21:\n",
    "        return \"Opponent went over. You win\"\n",
    "    elif u_score > c_score:\n",
    "        return \"You Win\"\n",
    "    else:\n",
    "        return \"You Lose\"\n",
    "\n",
    "def play_game():\n",
    "    user_card = []\n",
    "    computer_card = []\n",
    "\n",
    "    is_game_over = False\n",
    "\n",
    "    for _ in range(2):\n",
    "        user_card.append(deal_card())\n",
    "        computer_card.append(deal_card())\n",
    "\n",
    "    while not is_game_over:\n",
    "        user_score = calculate_score(user_card)\n",
    "        computer_score = calculate_score(computer_card)\n",
    "\n",
    "        print(f\"Your cards: {user_card}, current score: {user_score}\")\n",
    "        print(f\"Computer's first card: {computer_card[0]}\")\n",
    "\n",
    "        if user_score == 0 or computer_score == 0 or user_score > 21:\n",
    "            is_game_over = True\n",
    "        else:\n",
    "            user_should_deal = input(\"Type 'y' to get another card, type 'n' to pass: \")\n",
    "            if user_should_deal == \"y\":\n",
    "                user_card.append(deal_card())\n",
    "            else:\n",
    "                is_game_over = True\n",
    "\n",
    "    while computer_score != 0 and computer_score < 17:\n",
    "        computer_card.append(deal_card())\n",
    "        computer_score = calculate_score(computer_card)\n",
    "\n",
    "    print(f\"\\nYour final hand: {user_card}, final score: {user_score}\")\n",
    "    print(f\"Computer's final hand: {computer_card}, final score: {computer_score}\")\n",
    "    print(compare(user_score, computer_score))\n",
    "\n",
    "# Main game loop\n",
    "while input(\"Do you want to play a game of Blackjack? Type 'y' or 'n': \") == \"y\":\n",
    "    print(\"\\n\" * 3)\n",
    "    play_game()\n"
   ]
  },
  {
   "cell_type": "markdown",
   "id": "37ca8a19",
   "metadata": {},
   "source": [
    "DAY 12 \n",
    "\n",
    "SCOPE \n",
    "\n",
    "Local Scope\n",
    "\n",
    "Local scope exists within functions.\n",
    "\n",
    "Global Scope\n",
    "\n",
    "If we want a variable to be accessible outside a function, we define it in the global scope.\n"
   ]
  },
  {
   "cell_type": "code",
   "execution_count": 16,
   "id": "b6aab5db",
   "metadata": {},
   "outputs": [
    {
     "name": "stdout",
     "output_type": "stream",
     "text": [
      "enemies inside function: 2\n",
      "enemies outside function: 2\n"
     ]
    }
   ],
   "source": [
    "enemies = 1\n",
    "\n",
    "def increase_enemies():\n",
    "    global enemies\n",
    "    enemies += 1\n",
    "    print(f\"enemies inside function: {enemies}\")\n",
    "\n",
    "increase_enemies()\n",
    "print(f\"enemies outside function: {enemies}\")"
   ]
  },
  {
   "cell_type": "code",
   "execution_count": null,
   "id": "460f9f27",
   "metadata": {},
   "outputs": [
    {
     "name": "stdout",
     "output_type": "stream",
     "text": [
      "You have None attempts remaining to guess the number.\n",
      "Too High\n"
     ]
    },
    {
     "ename": "TypeError",
     "evalue": "unsupported operand type(s) for -: 'NoneType' and 'int'",
     "output_type": "error",
     "traceback": [
      "\u001b[0;31m---------------------------------------------------------------------------\u001b[0m",
      "\u001b[0;31mTypeError\u001b[0m                                 Traceback (most recent call last)",
      "Cell \u001b[0;32mIn[4], line 43\u001b[0m\n\u001b[1;32m     39\u001b[0m \u001b[38;5;28mprint\u001b[39m(\u001b[38;5;124mf\u001b[39m\u001b[38;5;124m\"\u001b[39m\u001b[38;5;124mYou have \u001b[39m\u001b[38;5;132;01m{\u001b[39;00mturns\u001b[38;5;132;01m}\u001b[39;00m\u001b[38;5;124m attempts remaining to guess the number.\u001b[39m\u001b[38;5;124m\"\u001b[39m)\n\u001b[1;32m     41\u001b[0m guess \u001b[38;5;241m=\u001b[39m \u001b[38;5;28mint\u001b[39m(\u001b[38;5;28minput\u001b[39m(\u001b[38;5;124m\"\u001b[39m\u001b[38;5;124mMake a guess:\u001b[39m\u001b[38;5;124m\"\u001b[39m))\n\u001b[0;32m---> 43\u001b[0m turns \u001b[38;5;241m=\u001b[39m check_answer(guess , answer, turns )\n\u001b[1;32m     45\u001b[0m \u001b[38;5;28;01mif\u001b[39;00m guess \u001b[38;5;241m!=\u001b[39m answer:\n\u001b[1;32m     46\u001b[0m     \u001b[38;5;28;01mif\u001b[39;00m turns \u001b[38;5;241m==\u001b[39m \u001b[38;5;241m0\u001b[39m:\n",
      "Cell \u001b[0;32mIn[4], line 9\u001b[0m, in \u001b[0;36mcheck_answer\u001b[0;34m(user_guess, actual_answer, turns)\u001b[0m\n\u001b[1;32m      7\u001b[0m \u001b[38;5;28;01mif\u001b[39;00m user_guess \u001b[38;5;241m>\u001b[39m actual_answer:\n\u001b[1;32m      8\u001b[0m     \u001b[38;5;28mprint\u001b[39m(\u001b[38;5;124m\"\u001b[39m\u001b[38;5;124mToo High\u001b[39m\u001b[38;5;124m\"\u001b[39m)\n\u001b[0;32m----> 9\u001b[0m     \u001b[38;5;28;01mreturn\u001b[39;00m turns \u001b[38;5;241m-\u001b[39m \u001b[38;5;241m1\u001b[39m\n\u001b[1;32m     11\u001b[0m \u001b[38;5;28;01melif\u001b[39;00m user_guess \u001b[38;5;241m<\u001b[39m actual_answer:\n\u001b[1;32m     12\u001b[0m     \u001b[38;5;28mprint\u001b[39m(\u001b[38;5;124m\"\u001b[39m\u001b[38;5;124mToo Low\u001b[39m\u001b[38;5;124m\"\u001b[39m)\n",
      "\u001b[0;31mTypeError\u001b[0m: unsupported operand type(s) for -: 'NoneType' and 'int'"
     ]
    }
   ],
   "source": [
    "from random import randint \n",
    "\n",
    "EASY_LEVEL_TURNS = 10\n",
    "HARD_LEVEL_TURNS = 5\n",
    "\n",
    "def check_answer(guess,actual_answer):\n",
    "    if guess > actual_answer:\n",
    "        print(\"Too High\")\n",
    "        return False \n",
    "    \n",
    "    elif guess < actual_answer:\n",
    "        print(\"Too Low\")\n",
    "        return False  \n",
    "    \n",
    "    else:\n",
    "        print(f\"You got it right! the answer was {actual_answer}\")\n",
    "        return True\n",
    "\n",
    "\n",
    "def set_difficulty():\n",
    "    level = input(\"choose a difficulty. Type 'easy' or 'hard':\")\n",
    "    if level == \"easy\":\n",
    "        return EASY_LEVEL_TURNS\n",
    "    else:\n",
    "        return HARD_LEVEL_TURNS\n",
    "    \n",
    "\n",
    "def game():\n",
    "    print(\"Welcome to the number guessing game\")\n",
    "    print(\"I'm thinking of a Number between 1 to 100\")\n",
    "\n",
    "    answer = randint(1,100)\n",
    "    print(f\"You got it right! the answer was {answer}\")\n",
    "\n",
    "    turns = set_difficulty()\n",
    "    \n",
    "guess = None\n",
    "\n",
    "while guess != answer:\n",
    "        print(f\"You have {turns} attempts remaining to guess the number.\")\n",
    "\n",
    "        guess = int(input(\"Make a guess:\"))\n",
    "\n",
    "        turns = check_answer(guess , answer, turns )\n",
    "\n",
    "        if guess != answer:\n",
    "            if turns == 0:\n",
    "                print(\"You've run out of guesses, you lose.\")\n",
    "        \n",
    "            else:\n",
    "                print(\"Guess again \")\n",
    "            "
   ]
  },
  {
   "cell_type": "code",
   "execution_count": 7,
   "id": "3ce370ad",
   "metadata": {},
   "outputs": [
    {
     "name": "stdout",
     "output_type": "stream",
     "text": [
      "Welcome to the number guessing game!\n",
      "I'm thinking of a number between 1 and 100.\n",
      "\n",
      "You have 10 attempts remaining to guess the number.\n",
      "Your Guess:60\n",
      "Too Low.\n",
      "Guess again.\n",
      "\n",
      "You have 9 attempts remaining to guess the number.\n",
      "Your Guess:80\n",
      "Too High.\n",
      "Guess again.\n",
      "\n",
      "You have 8 attempts remaining to guess the number.\n",
      "Your Guess:70\n",
      "Too Low.\n",
      "Guess again.\n",
      "\n",
      "You have 7 attempts remaining to guess the number.\n",
      "Your Guess:75\n",
      "Too Low.\n",
      "Guess again.\n",
      "\n",
      "You have 6 attempts remaining to guess the number.\n",
      "Your Guess:78\n",
      "Too Low.\n",
      "Guess again.\n",
      "\n",
      "You have 5 attempts remaining to guess the number.\n",
      "Your Guess:79\n",
      "You got it right! The answer was 79.\n"
     ]
    }
   ],
   "source": [
    "from random import randint\n",
    "\n",
    "EASY_LEVEL_TURNS = 10\n",
    "HARD_LEVEL_TURNS = 5\n",
    "\n",
    "def set_difficulty():\n",
    "    level = input(\"Choose a difficulty. Type 'easy' or 'hard': \").lower()\n",
    "    if level == \"easy\":\n",
    "        return EASY_LEVEL_TURNS\n",
    "    else:\n",
    "        return HARD_LEVEL_TURNS\n",
    "\n",
    "def check_answer(guess, answer):\n",
    "    \"\"\"Return feedback and if the guess was correct.\"\"\"\n",
    "    if guess > answer:\n",
    "        print(\"Too High.\")\n",
    "        return False\n",
    "    elif guess < answer:\n",
    "        print(\"Too Low.\")\n",
    "        return False\n",
    "    else:\n",
    "        print(f\"You got it right! The answer was {answer}.\")\n",
    "        return True\n",
    "\n",
    "def game():\n",
    "    print(\"Welcome to the number guessing game!\")\n",
    "    print(\"I'm thinking of a number between 1 and 100.\")\n",
    "\n",
    "    answer = randint(1, 100)\n",
    "\n",
    "    turns = set_difficulty()\n",
    "    guess = None\n",
    "\n",
    "    while turns > 0:\n",
    "        print(f\"\\nYou have {turns} attempts remaining to guess the number.\")\n",
    "        guess = int(input(\"Make a guess: \"))\n",
    "        print(f\"Your Guess:{guess}\")\n",
    "\n",
    "        is_correct = check_answer(guess, answer)\n",
    "\n",
    "        if is_correct:\n",
    "            break\n",
    "        turns -= 1\n",
    "\n",
    "        if turns == 0:\n",
    "            print(f\"\\nYou've run out of guesses. You lose. The correct number was {answer}.\")\n",
    "        else:\n",
    "            print(\"Guess again.\")\n",
    "\n",
    "# Start the game\n",
    "game()\n"
   ]
  },
  {
   "cell_type": "markdown",
   "id": "21f26b13",
   "metadata": {},
   "source": [
    "DAY 15 \n",
    "\n",
    "COFFEE MACHINE "
   ]
  },
  {
   "cell_type": "code",
   "execution_count": null,
   "id": "2d49a49a",
   "metadata": {},
   "outputs": [
    {
     "name": "stdout",
     "output_type": "stream",
     "text": [
      "{'ingredients': {'water': 200, 'coffee': 24, 'milk': 150}, 'cost': 2.5}\n"
     ]
    },
    {
     "ename": "KeyError",
     "evalue": "''",
     "output_type": "error",
     "traceback": [
      "\u001b[0;31m---------------------------------------------------------------------------\u001b[0m",
      "\u001b[0;31mKeyError\u001b[0m                                  Traceback (most recent call last)",
      "Cell \u001b[0;32mIn[1], line 50\u001b[0m\n\u001b[1;32m     48\u001b[0m     \u001b[38;5;28mprint\u001b[39m(\u001b[38;5;124mf\u001b[39m\u001b[38;5;124m\"\u001b[39m\u001b[38;5;124mMoney :$\u001b[39m\u001b[38;5;132;01m{\u001b[39;00mprofit\u001b[38;5;132;01m}\u001b[39;00m\u001b[38;5;124m\"\u001b[39m)\n\u001b[1;32m     49\u001b[0m \u001b[38;5;28;01melse\u001b[39;00m:\n\u001b[0;32m---> 50\u001b[0m     drink \u001b[38;5;241m=\u001b[39m MENU[choice]\n\u001b[1;32m     51\u001b[0m     \u001b[38;5;28mprint\u001b[39m(drink)\n",
      "\u001b[0;31mKeyError\u001b[0m: ''"
     ]
    }
   ],
   "source": [
    "\n",
    "MENU = {\n",
    "    \"espresso\" : {\n",
    "        \"ingredients\":{\n",
    "            \"water\": 58,\n",
    "            \"coffee\":18,\n",
    "        }, \n",
    "        \"cost\": 1.5,\n",
    "    },\n",
    "    \"latte\":{\n",
    "         \"ingredients\":{\n",
    "            \"water\": 200,\n",
    "            \"coffee\":24,\n",
    "            \"milk\": 150,\n",
    "    },\n",
    "      \"cost\": 2.5,\n",
    "    },\n",
    "\n",
    "    \"cappuccino\":{\n",
    "         \"ingredients\":{\n",
    "            \"water\": 250,\n",
    "            \"coffee\":24,\n",
    "            \"milk\":200,\n",
    "        }, \n",
    "        \"cost\":3.0,\n",
    "\n",
    "    }\n",
    "\n",
    "}\n",
    "profit  = 0\n",
    "resources = {\n",
    "    \"water\": 300,\n",
    "    \"coffee\":100,\n",
    "    \"milk\":200,\n",
    "}\n",
    "\n",
    "def is_resource_sufficient(order_ingredients):\n",
    "    for item in order_ingredients:\n",
    "        if order_ingredients[item] >= resources[item]:\n",
    "            print(f\"sorry there is not enough {item}\")\n",
    "            return False    \n",
    "    return True \n",
    "\n",
    "\n",
    "\n",
    "is_on = True \n",
    "\n",
    "def process_coins():\n",
    "    print(\"Please insert coins.\")\n",
    "    total = input(\"how many quaters?:  \")\n",
    "    \n",
    "\n",
    "while is_on:\n",
    "    choice = input (\"What would you like to have (espresso/latte/cappuccino):\")\n",
    "    if choice == \"off\":\n",
    "        is_on = False\n",
    "    elif choice == \"report\":\n",
    "        print(f\"Water : {resources['water']}ml\")\n",
    "        print(f\"Milk:{resources['milk']}ml\")\n",
    "        print(f\"Coffee:{resources['coffee']}g\")\n",
    "        print(f\"Money :${profit}\")\n",
    "    else:\n",
    "        drink = MENU[choice]\n",
    "        if is_resource_sufficient(drink[\"ingredients\"]):\n",
    "\n"
   ]
  }
 ],
 "metadata": {
  "kernelspec": {
   "display_name": "base",
   "language": "python",
   "name": "python3"
  },
  "language_info": {
   "codemirror_mode": {
    "name": "ipython",
    "version": 3
   },
   "file_extension": ".py",
   "mimetype": "text/x-python",
   "name": "python",
   "nbconvert_exporter": "python",
   "pygments_lexer": "ipython3",
   "version": "3.12.2"
  }
 },
 "nbformat": 4,
 "nbformat_minor": 5
}
